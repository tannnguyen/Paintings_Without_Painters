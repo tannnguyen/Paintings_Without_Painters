{
 "cells": [
  {
   "cell_type": "markdown",
   "metadata": {},
   "source": [
    "# These are snippets of code that support us throughout this project"
   ]
  },
  {
   "cell_type": "code",
   "execution_count": null,
   "metadata": {},
   "outputs": [],
   "source": [
    "import pandas as pd\n",
    "import cv2\n",
    "import os\n",
    "import csv"
   ]
  },
  {
   "cell_type": "code",
   "execution_count": null,
   "metadata": {},
   "outputs": [],
   "source": [
    "# We want to run analysis on our generated pairs\n",
    "def analyze_csv(filename):\n",
    "    df = pd.read_csv(filename)\n",
    "    ones = df['label'].eq(1).sum()\n",
    "    zeros = df['label'].eq(0).sum()\n",
    "    return ones, zeros\n"
   ]
  },
  {
   "cell_type": "code",
   "execution_count": null,
   "metadata": {},
   "outputs": [],
   "source": [
    "def generate_style(img_dir, csv_file, out_dir):\n",
    "    df = pd.read_csv(csv_file)\n",
    "    os.chdir(img_dir)\n",
    "    for index, row in df.iterrows():\n",
    "        print(index)\n",
    "        file = row['filename']\n",
    "        img = cv2.imread(file)\n",
    "        cv2.imwrite(os.path.join(out_dir,file),img)"
   ]
  },
  {
   "cell_type": "code",
   "execution_count": null,
   "metadata": {},
   "outputs": [],
   "source": [
    "analyze_csv('train_120k_pair.csv')"
   ]
  },
  {
   "cell_type": "code",
   "execution_count": null,
   "metadata": {},
   "outputs": [],
   "source": [
    "analyze_csv('test_30k_pair.csv')"
   ]
  },
  {
   "cell_type": "code",
   "execution_count": null,
   "metadata": {},
   "outputs": [],
   "source": [
    "path = '/home/tannhat_ng/'\n",
    "csv = os.path.join(path, 'test_art_romanticism.csv')\n",
    "train_reg = os.path.join(path, 'test_reg')\n",
    "train_roman = os.path.join(path, 'test_roman')\n",
    "generate_style(train_reg, csv, train_roman)"
   ]
  },
  {
   "cell_type": "code",
   "execution_count": null,
   "metadata": {},
   "outputs": [],
   "source": [
    "SIZE = 10000\n",
    "def generate_dataset(filepath, output_filepath):\n",
    "    df = pd.read_csv(filepath)\n",
    "    column = ['file1', 'file2', 'artist1', 'artist2', 'label']\n",
    "    output = pd.DataFrame([], columns=column)\n",
    "    groups = df.groupby(['artist'])\n",
    "    \n",
    "    for i in range(SIZE):\n",
    "        #print(i)\n",
    "        same = random.randint(0, 1)\n",
    "        row1 = df.sample()\n",
    "        filename1 = row1['filename'].item()\n",
    "        artist = row1['artist'].item()\n",
    "        group = groups.get_group(artist)\n",
    "        if len(group.index) == 1:\n",
    "            same = 0\n",
    "        if same:\n",
    "            # Generate paintings with the same painters\n",
    "            row2_options = df.loc[df['artist'] == artist]\n",
    "            rand = random.randint(0, row2_options.shape[0]-1)\n",
    "            row2 = row2_options.iloc[[rand]]\n",
    "            filename2 = row2['filename'].item()\n",
    "            while filename2 == filename1:\n",
    "              row2_options = df.loc[df['artist'] == artist]\n",
    "              rand = random.randint(0, row2_options.shape[0]-1)\n",
    "              row2 = row2_options.iloc[[rand]]\n",
    "              filename2 = row2['filename'].item()\n",
    "            new_row = pd.DataFrame([[filename1, filename2, artist, artist, 1]], columns=column)\n",
    "            output = output.append(new_row)\n",
    "            \n",
    "        else:\n",
    "            row2 = df.sample()\n",
    "            artist2 = row2['artist'].item()\n",
    "            while artist2 == artist:\n",
    "                row2 = df.sample()\n",
    "                artist2 = row2['artist'].item()\n",
    "            filename2 = row2['filename'].item()\n",
    "            new_row = pd.DataFrame([[filename1, filename2, artist, artist2, 0]], columns=column)\n",
    "            output = output.append(new_row)\n",
    "\n",
    "    output.to_csv(output_filepath, columns=column, index=False)"
   ]
  },
  {
   "cell_type": "code",
   "execution_count": null,
   "metadata": {},
   "outputs": [],
   "source": [
    "# Generate csv for particular folder\n",
    "def generate_sub_csv(filepath, output_filepath):\n",
    "    new_csv = []\n",
    "    column = None\n",
    "    with open('/content/drive/My Drive/cs482/Painter Data/train_reg_info.csv') as csv_file:\n",
    "        csv_reader = csv.reader(csv_file, delimiter=',')\n",
    "        first_line = True\n",
    "        for row in csv_reader:\n",
    "            if first_line:\n",
    "                first_line = False\n",
    "                column = row\n",
    "            else:\n",
    "                if os.path.exists(filepath + row[0]):\n",
    "                    new_csv.append(row)\n",
    "\n",
    "    with open(output_filepath, 'w') as csv_file:\n",
    "        writer = csv.writer(csv_file, delimiter=',')\n",
    "        writer.writerow(column)\n",
    "        for row in new_csv:\n",
    "           writer.writerow(row)"
   ]
  },
  {
   "cell_type": "code",
   "execution_count": null,
   "metadata": {},
   "outputs": [],
   "source": [
    "# Visualization\n",
    "painter_dataset = PainterDataset(csv_file = os.path.join(data_dir,'test_info.csv'),root_dir = os.path.join(data_dir,'test_reg'))\n",
    "\n",
    "fig = plt.figure()\n",
    "\n",
    "for i in range(len(painter_dataset)):\n",
    "    sample = painter_dataset[i+3]\n",
    "\n",
    "    ax = plt.subplot(2, 3, i + 1)\n",
    "    plt.tight_layout()\n",
    "    ax.set_title('{}'.format(sample[\"style\"]))\n",
    "    ax.axis('off')\n",
    "    plt.imshow(sample[\"image\"])\n",
    "\n",
    "    if i == 5:\n",
    "        plt.show()\n",
    "        break\n",
    "\n",
    "#plt.imshow(painter_dataset[0][\"image\"])\n",
    "#print(painter_dataset[0][\"style\"])"
   ]
  },
  {
   "cell_type": "code",
   "execution_count": null,
   "metadata": {},
   "outputs": [],
   "source": [
    "class FaceDataset(Dataset):\n",
    "    def __init__(self, folder, transform):\n",
    "        self.folder = folder\n",
    "        self.transform = transform\n",
    "        \n",
    "    def __getitem__(self, index):\n",
    "        # Random choice gives out an actual image and a \"label\" as a tuple\n",
    "        # Can compare the \"label\" to \n",
    "        img1_wrapper = random.choice(self.folder.imgs)\n",
    "        \n",
    "        # Choose either from the same class or different class\n",
    "        same = random.randint(0,1)\n",
    "        if same:\n",
    "            # Loop until find the same class\n",
    "            while True:\n",
    "                img2_wrapper = random.choice(self.folder.imgs)\n",
    "                if img1_wrapper[1] == img2_wrapper[1]:\n",
    "                    break\n",
    "        else:\n",
    "            # Loop until find a different class\n",
    "            while True:\n",
    "                img2_wrapper = random.choice(self.folder.imgs)\n",
    "                if img1_wrapper[1] != img2_wrapper[1]:\n",
    "                    break\n",
    "        \n",
    "        # Get the actual image and convert it to grayscale\n",
    "        img1 = Image.open(img1_wrapper[0]).convert('L')\n",
    "        img2 = Image.open(img2_wrapper[0]).convert('L')\n",
    "        \n",
    "        # Implement transform\n",
    "        if self.transform is not None:\n",
    "            img1 = self.transform(img1)\n",
    "            img2 = self.transform(img2)\n",
    "        \n",
    "        # Get the label\n",
    "        # Label 1 means same values\n",
    "        # Label 0 means different values\n",
    "        label = np.array([img1_wrapper[1] == img2_wrapper[1]], dtype=np.float64)\n",
    "        label = torch.from_numpy(label)\n",
    "        \n",
    "        return img1, img2, label\n",
    "        \n",
    "    def __len__(self):\n",
    "        return len(self.folder.imgs)"
   ]
  },
  {
   "cell_type": "code",
   "execution_count": null,
   "metadata": {},
   "outputs": [],
   "source": [
    "class ContrastiveLoss(nn.Module):\n",
    "    '''\n",
    "    Implement Contrastive Loss function\n",
    "    Resources: http://yann.lecun.com/exdb/publis/pdf/hadsell-chopra-lecun-06.pdf\n",
    "    '''\n",
    "    \n",
    "    def __init__(self, margin=1.0, size_average=True, reduce=True):\n",
    "        super(ContrastiveLoss, self).__init__()\n",
    "        self.margin = margin\n",
    "        self.reduce = reduce\n",
    "        self.size_average = size_average\n",
    "        \n",
    "        \n",
    "    def forward(self, distance, target):\n",
    "#         if distance < self.margin:\n",
    "#             raise ValueError('Margin needs to be larger than the Gaussian distance')\n",
    "        loss = 0.5 * ((1-target) * torch.pow(distance, 2) + \n",
    "                     target * torch.pow(F.relu(self.margin - distance), 2))\n",
    "        if self.reduce:\n",
    "            if self.size_average:\n",
    "                loss = torch.mean(loss)\n",
    "            else:\n",
    "                loss = torch.sum(loss)\n",
    "        return loss"
   ]
  },
  {
   "cell_type": "code",
   "execution_count": null,
   "metadata": {},
   "outputs": [],
   "source": []
  }
 ],
 "metadata": {
  "kernelspec": {
   "display_name": "Python 3",
   "language": "python",
   "name": "python3"
  },
  "language_info": {
   "codemirror_mode": {
    "name": "ipython",
    "version": 3
   },
   "file_extension": ".py",
   "mimetype": "text/x-python",
   "name": "python",
   "nbconvert_exporter": "python",
   "pygments_lexer": "ipython3",
   "version": "3.5.2"
  }
 },
 "nbformat": 4,
 "nbformat_minor": 2
}
