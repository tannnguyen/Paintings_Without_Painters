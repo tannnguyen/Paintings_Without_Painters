{
 "cells": [
  {
   "cell_type": "markdown",
   "metadata": {
    "colab_type": "text",
    "id": "v8_3ngTWEtq9"
   },
   "source": [
    "# Siamese Network based on ResNet\n"
   ]
  },
  {
   "cell_type": "code",
   "execution_count": 1,
   "metadata": {
    "colab": {},
    "colab_type": "code",
    "id": "QtUToPnyfv0j"
   },
   "outputs": [],
   "source": [
    "import numpy as np\n",
    "import os\n",
    "import matplotlib.pyplot as plt\n",
    "import pandas as pd\n",
    "import random\n",
    "\n",
    "from PIL import Image\n",
    "from skimage import io, transform\n",
    "import torch\n",
    "import torchvision\n",
    "import torch.nn as nn\n",
    "import torch.nn.functional as F\n",
    "import torch.optim as optim\n",
    "import torchvision.models as models\n",
    "from torch.utils.data import Dataset, DataLoader\n",
    "from torchvision import transforms, datasets\n",
    "from torch.autograd import Variable\n",
    "import tqdm"
   ]
  },
  {
   "cell_type": "code",
   "execution_count": 2,
   "metadata": {
    "colab": {},
    "colab_type": "code",
    "id": "tWWJ0Tlfcbgf"
   },
   "outputs": [],
   "source": [
    "def register_extension(id, extension):\n",
    "    Image.EXTENSION[extension.lower()] = id.upper()\n",
    "Image.register_extension = register_extension\n",
    "\n",
    "def register_extensions(id, extensions):\n",
    "    for extension in extensions:\n",
    "        register_extension(id, extension)\n",
    "Image.register_extensions = register_extensions"
   ]
  },
  {
   "cell_type": "code",
   "execution_count": 3,
   "metadata": {
    "colab": {},
    "colab_type": "code",
    "id": "Uxyo9XdI1SF2"
   },
   "outputs": [],
   "source": [
    "data_dir = '/home/tannhat_ng'\n",
    "# Modify to read a pair in at a time. No longer generate a pair when coming in\n",
    "# Consistency for all the run\n",
    "class PainterDataset(Dataset):\n",
    "    def __init__(self, csv_file, img_dir, transform=None):\n",
    "        self.img_dir = img_dir\n",
    "        self.transform = transform\n",
    "        self.df = pd.read_csv(csv_file, usecols=['file1','file2', 'label'])\n",
    "        \n",
    "    def __len__(self):\n",
    "        return len(self.df.index)\n",
    "    \n",
    "    def __getitem__(self, idx):\n",
    "        os.chdir(self.img_dir)\n",
    "        row = self.df.iloc[[idx]]\n",
    "        filename_1 = row['file1'].item()\n",
    "        filename_2 = row['file2'].item()\n",
    "        label = row['label'].item()\n",
    "        \n",
    "        img_1 = Image.open(filename_1)\n",
    "        img_2 = Image.open(filename_2)\n",
    "        \n",
    "        if self.transform is not None:\n",
    "            img_1 = self.transform(img_1)\n",
    "            img_2 = self.transform(img_2)\n",
    "        \n",
    "        label = torch.tensor([label]) #1 if same, 0 if not\n",
    "        \n",
    "        return img_1, img_2, label"
   ]
  },
  {
   "cell_type": "code",
   "execution_count": 4,
   "metadata": {
    "colab": {},
    "colab_type": "code",
    "id": "sQw6b9Rsyi2L"
   },
   "outputs": [],
   "source": [
    "class SiameseNetwork(nn.Module):\n",
    "    def __init__(self, cnn):\n",
    "        super(SiameseNetwork, self).__init__()\n",
    "        self.cnn = cnn\n",
    "        self.fc = nn.Sequential(\n",
    "#                   nn.Linear(in_features = 16384, out_features = 4096, bias = True),\n",
    "#                   nn.ReLU (inplace = True),\n",
    "                  nn.Linear(in_features = 4096, out_features = 2048, bias = True),\n",
    "                  nn.ReLU (inplace = True),\n",
    "                  nn.Linear(in_features = 2048, out_features = 128, bias = True),\n",
    "                  nn.ReLU (inplace= True),\n",
    "                  nn.Linear (in_features = 128, out_features = 1, bias = True)\n",
    "                                )\n",
    "\n",
    "    def forward_once(self, x):\n",
    "        output = self.cnn(x)\n",
    "        output = output.view(output.size()[0], -1)\n",
    "        return output\n",
    "\n",
    "    def forward(self, img1, img2):\n",
    "        output1 = self.forward_once(img1)\n",
    "        output2 = self.forward_once(img2)\n",
    "        features = torch.cat((output1, output2),1) # dimension: 65536\n",
    "        features = self.fc(features)\n",
    "        return torch.sigmoid(features)"
   ]
  },
  {
   "cell_type": "code",
   "execution_count": 5,
   "metadata": {
    "colab": {},
    "colab_type": "code",
    "id": "14Xg-nZ8yHAE"
   },
   "outputs": [],
   "source": [
    "class Args(object):\n",
    "      def __init__(self, batch_size=64, test_batch_size=100,\n",
    "            epochs=10, lr=0.01, momentum=0.5,\n",
    "            log_interval=100,seed=1):\n",
    "        self.batch_size = batch_size\n",
    "        self.test_batch_size = test_batch_size # Input batch size for testing\n",
    "        self.epochs = epochs # Number of epochs to train\n",
    "        self.lr = lr # Learning rate\n",
    "        self.momentum = momentum \n",
    "        self.log_interval = log_interval # Batches to wait before logging\n",
    "                                         # detailed status. 0 = never\n",
    "        self.seed = seed # Random seed"
   ]
  },
  {
   "cell_type": "code",
   "execution_count": 6,
   "metadata": {
    "colab": {},
    "colab_type": "code",
    "id": "poAFh0ASYfXu"
   },
   "outputs": [],
   "source": [
    "def prepare_dataset(object):\n",
    "   \n",
    "    train_csv = os.path.join(data_dir,'train_120k_pair.csv')    # adjust it to work on different folder\n",
    "    train_dir = os.path.join(data_dir, 'train_reg')\n",
    "    test_csv = os.path.join(data_dir,'test_pair.csv')\n",
    "    test_dir = os.path.join(data_dir,'test_reg')\n",
    "    \n",
    "    kwargs = {'num_workers': 1, 'pin_memory': True}\n",
    "    train_dataset = PainterDataset(csv_file = train_csv, img_dir = train_dir, transform = transforms.ToTensor())\n",
    "    test_dataset = PainterDataset(csv_file = test_csv, img_dir = test_dir, transform = transforms.ToTensor())\n",
    "    \n",
    "    train_loader = DataLoader(train_dataset, batch_size=args.batch_size, shuffle=True, **kwargs)\n",
    "    test_loader = DataLoader(test_dataset, batch_size=args.test_batch_size, shuffle=True, **kwargs)\n",
    "    \n",
    "    return train_loader, test_loader"
   ]
  },
  {
   "cell_type": "code",
   "execution_count": 7,
   "metadata": {
    "colab": {},
    "colab_type": "code",
    "id": "rR3Ghri0zGQ3"
   },
   "outputs": [],
   "source": [
    "def train(model, optimizer, train_loader, epoch, total_minibatch_count, train_losses, train_accs):\n",
    "  \n",
    "    #training\n",
    "    model.train()\n",
    "    loss = nn.BCELoss()\n",
    "    correct_count, total_loss, total_acc = 0., 0., 0.\n",
    "    progress_bar = tqdm.tqdm(train_loader, desc='Training')\n",
    "    \n",
    "    for batch_idx, (input1, input2, target) in enumerate(progress_bar):\n",
    "        input1, input2, target = input1.cuda(), input2.cuda(), target.cuda()\n",
    "        input1, input2, target = Variable(input1), Variable(input2),Variable(target)\n",
    "        \n",
    "        optimizer.zero_grad()\n",
    "\n",
    "        # Forward prediction step\n",
    "        output = model(input1, input2)\n",
    "        train_loss = loss(output,target.float())\n",
    "        \n",
    "        # Backpropagation step\n",
    "        train_loss.backward()\n",
    "        optimizer.step()\n",
    "\n",
    "        pred = (output > 0.5)\n",
    "\n",
    "        matches = (target.float() == pred.float())\n",
    "        accuracy = matches.float().mean()\n",
    "        correct_count += matches.sum()\n",
    "\n",
    "        if args.log_interval != 0 and \\\n",
    "                total_minibatch_count % args.log_interval == 0:\n",
    "\n",
    "            train_losses.append(train_loss.item())\n",
    "            train_accs.append(accuracy.data[0])\n",
    "            \n",
    "        total_loss += train_loss.data\n",
    "        total_acc += accuracy.data\n",
    "            \n",
    "        progress_bar.set_description(\n",
    "            'Epoch: {} loss: {:.4f}, acc: {:.2f}'.format(\n",
    "                epoch, total_loss / (batch_idx + 1), total_acc / (batch_idx + 1)))\n",
    "        #progress_bar.refresh()\n",
    "\n",
    "        total_minibatch_count += 1\n",
    "    path = './resnet_trained_{}.pth'.format(epoch)\n",
    "    torch.save(model.state_dict(), path)\n",
    "    return total_minibatch_count"
   ]
  },
  {
   "cell_type": "code",
   "execution_count": 8,
   "metadata": {
    "colab": {},
    "colab_type": "code",
    "id": "spKYne5Oytun"
   },
   "outputs": [],
   "source": [
    "def test(model, test_loader, epoch, total_minibatch_count,val_losses, val_accs):\n",
    "    \n",
    "    # testing\n",
    "    model.eval()\n",
    "    loss = nn.BCELoss()\n",
    "    test_loss, correct = 0., 0.\n",
    "    progress_bar = tqdm.tqdm(test_loader, desc='Validation')\n",
    "    with torch.no_grad():\n",
    "        for input1, input2, target in progress_bar:\n",
    "            \n",
    "            input1, input2, target = input1.cuda(), input2.cuda(), target.cuda()\n",
    "            input1, input2, target = Variable(input1), Variable(input2), Variable(target)\n",
    "            \n",
    "            output = model(input1, input2)\n",
    "            test_loss += loss(output,target.float())\n",
    "            pred =  (output > 0.5)\n",
    "            correct += torch.sum(target.float() == pred.float())\n",
    "\n",
    "    test_loss /= float(len(test_loader.dataset))\n",
    "    \n",
    "    acc = float(correct) / len(test_loader.dataset)\n",
    "\n",
    "    val_losses.append(test_loss)\n",
    "    val_accs.append(acc)\n",
    "    \n",
    "    progress_bar.clear()\n",
    "    progress_bar.write(\n",
    "        '\\nEpoch: {} validation test results - Average val_loss: {:.4f}, val_acc: {}/{} ({:.2f}%)'.format(\n",
    "            epoch, test_loss, correct, len(test_loader.dataset),\n",
    "            100. * float(correct) / len(test_loader.dataset)))\n",
    "\n",
    "    return acc"
   ]
  },
  {
   "cell_type": "code",
   "execution_count": 9,
   "metadata": {
    "colab": {},
    "colab_type": "code",
    "id": "7uqV_anJ03Sr"
   },
   "outputs": [],
   "source": [
    "def run_experiment(args):\n",
    "\n",
    "    total_minibatch_count = 0\n",
    "    torch.cuda.manual_seed(args.seed)\n",
    "    \n",
    "    train_loader, test_loader, = prepare_dataset(args)\n",
    "    epochs_to_run = args.epochs\n",
    "#     cnn = models.resnet152(pretrained=True)\n",
    "    cnn = models.resnet18(pretrained=True)\n",
    "    modules = list(cnn.children())[:-1]      # delete the last fc layer.\n",
    "    cnn = nn.Sequential(*modules)\n",
    "    for param in cnn.parameters():\n",
    "        param.requires_grad = False\n",
    "    model = SiameseNetwork(cnn).cuda()\n",
    "    optimizer = optim.SGD(model.parameters(), lr = args.lr, momentum = args.momentum)\n",
    "    val_acc = 0\n",
    "    train_losses, train_accs = [], []\n",
    "    val_losses, val_accs = [], []\n",
    "\n",
    "    for epoch in range(1, epochs_to_run + 1):\n",
    "        \n",
    "        total_minibatch_count = train(model, optimizer, train_loader, epoch, total_minibatch_count, train_losses, train_accs)\n",
    "        val_acc = test(model, test_loader, epoch, total_minibatch_count, val_losses, val_accs)\n",
    "    \n",
    "    fig, axes = plt.subplots(1,4, figsize=(13,4))\n",
    "    # plot the losses and acc\n",
    "    plt.title(\"ResNet\")\n",
    "    axes[0].plot(train_losses)\n",
    "    axes[0].set_title(\"Loss\")\n",
    "    axes[1].plot(train_accs)\n",
    "    axes[1].set_title(\"Acc\")\n",
    "    axes[2].plot(val_losses)\n",
    "    axes[2].set_title(\"Val loss\")\n",
    "    axes[3].plot(val_accs)\n",
    "    axes[3].set_title(\"Val Acc\")\n",
    "    \n",
    "    return model"
   ]
  },
  {
   "cell_type": "code",
   "execution_count": 10,
   "metadata": {
    "colab": {
     "base_uri": "https://localhost:8080/",
     "height": 74
    },
    "colab_type": "code",
    "id": "4VPhhCPWyHzV",
    "outputId": "648ed57d-cf75-44e8-c321-9e71c1c1850d"
   },
   "outputs": [
    {
     "name": "stderr",
     "output_type": "stream",
     "text": [
      "Training:   0%|          | 0/1875 [00:00<?, ?it/s]/home/tannhat_ng/.local/lib/python3.5/site-packages/ipykernel_launcher.py:33: UserWarning: invalid index of a 0-dim tensor. This will be an error in PyTorch 0.5. Use tensor.item() to convert a 0-dim tensor to a Python number\n",
      "Epoch: 1 loss: 0.6268, acc: 0.64: 100%|██████████| 1875/1875 [20:46<00:00,  1.52it/s]\n",
      "Validation: 100%|██████████| 30/30 [00:30<00:00,  1.02it/s]\n",
      "Training:   0%|          | 0/1875 [00:00<?, ?it/s]"
     ]
    },
    {
     "name": "stdout",
     "output_type": "stream",
     "text": [
      "\n",
      "Epoch: 1 validation test results - Average val_loss: 0.0058, val_acc: 2103/3000 (70.10%)\n"
     ]
    },
    {
     "name": "stderr",
     "output_type": "stream",
     "text": [
      "Epoch: 2 loss: 0.5624, acc: 0.71: 100%|██████████| 1875/1875 [20:20<00:00,  1.52it/s]\n",
      "Validation: 100%|██████████| 30/30 [00:30<00:00,  1.02it/s]\n",
      "Training:   0%|          | 0/1875 [00:00<?, ?it/s]"
     ]
    },
    {
     "name": "stdout",
     "output_type": "stream",
     "text": [
      "\n",
      "Epoch: 2 validation test results - Average val_loss: 0.0054, val_acc: 2155/3000 (71.83%)\n"
     ]
    },
    {
     "name": "stderr",
     "output_type": "stream",
     "text": [
      "Epoch: 3 loss: 0.5310, acc: 0.73: 100%|██████████| 1875/1875 [20:17<00:00,  1.55it/s]\n",
      "Validation: 100%|██████████| 30/30 [00:30<00:00,  1.02it/s]\n",
      "Training:   0%|          | 0/1875 [00:00<?, ?it/s]"
     ]
    },
    {
     "name": "stdout",
     "output_type": "stream",
     "text": [
      "\n",
      "Epoch: 3 validation test results - Average val_loss: 0.0054, val_acc: 2184/3000 (72.80%)\n"
     ]
    },
    {
     "name": "stderr",
     "output_type": "stream",
     "text": [
      "Epoch: 4 loss: 0.5062, acc: 0.75: 100%|██████████| 1875/1875 [19:37<00:00,  1.60it/s]\n",
      "Validation: 100%|██████████| 30/30 [00:30<00:00,  1.03it/s]\n",
      "Training:   0%|          | 0/1875 [00:00<?, ?it/s]"
     ]
    },
    {
     "name": "stdout",
     "output_type": "stream",
     "text": [
      "\n",
      "Epoch: 4 validation test results - Average val_loss: 0.0051, val_acc: 2244/3000 (74.80%)\n"
     ]
    },
    {
     "name": "stderr",
     "output_type": "stream",
     "text": [
      "Epoch: 5 loss: 0.4846, acc: 0.76: 100%|██████████| 1875/1875 [19:29<00:00,  1.65it/s]\n",
      "Validation: 100%|██████████| 30/30 [00:30<00:00,  1.02it/s]\n",
      "Training:   0%|          | 0/1875 [00:00<?, ?it/s]"
     ]
    },
    {
     "name": "stdout",
     "output_type": "stream",
     "text": [
      "\n",
      "Epoch: 5 validation test results - Average val_loss: 0.0052, val_acc: 2227/3000 (74.23%)\n"
     ]
    },
    {
     "name": "stderr",
     "output_type": "stream",
     "text": [
      "Epoch: 6 loss: 0.4635, acc: 0.78: 100%|██████████| 1875/1875 [19:31<00:00,  1.62it/s]\n",
      "Validation: 100%|██████████| 30/30 [00:29<00:00,  1.06it/s]\n",
      "Training:   0%|          | 0/1875 [00:00<?, ?it/s]"
     ]
    },
    {
     "name": "stdout",
     "output_type": "stream",
     "text": [
      "\n",
      "Epoch: 6 validation test results - Average val_loss: 0.0054, val_acc: 2225/3000 (74.17%)\n"
     ]
    },
    {
     "name": "stderr",
     "output_type": "stream",
     "text": [
      "Epoch: 7 loss: 0.4430, acc: 0.79: 100%|██████████| 1875/1875 [19:26<00:00,  1.62it/s]\n",
      "Validation: 100%|██████████| 30/30 [00:29<00:00,  1.04it/s]\n",
      "Training:   0%|          | 0/1875 [00:00<?, ?it/s]"
     ]
    },
    {
     "name": "stdout",
     "output_type": "stream",
     "text": [
      "\n",
      "Epoch: 7 validation test results - Average val_loss: 0.0055, val_acc: 2192/3000 (73.07%)\n"
     ]
    },
    {
     "name": "stderr",
     "output_type": "stream",
     "text": [
      "Epoch: 8 loss: 0.4214, acc: 0.80: 100%|██████████| 1875/1875 [19:28<00:00,  1.58it/s]\n",
      "Validation: 100%|██████████| 30/30 [00:30<00:00,  1.05it/s]\n",
      "Training:   0%|          | 0/1875 [00:00<?, ?it/s]"
     ]
    },
    {
     "name": "stdout",
     "output_type": "stream",
     "text": [
      "\n",
      "Epoch: 8 validation test results - Average val_loss: 0.0054, val_acc: 2213/3000 (73.77%)\n"
     ]
    },
    {
     "name": "stderr",
     "output_type": "stream",
     "text": [
      "Epoch: 9 loss: 0.3988, acc: 0.82: 100%|██████████| 1875/1875 [19:28<00:00,  1.58it/s]\n",
      "Validation: 100%|██████████| 30/30 [00:30<00:00,  1.02it/s]\n",
      "Training:   0%|          | 0/1875 [00:00<?, ?it/s]"
     ]
    },
    {
     "name": "stdout",
     "output_type": "stream",
     "text": [
      "\n",
      "Epoch: 9 validation test results - Average val_loss: 0.0054, val_acc: 2232/3000 (74.40%)\n"
     ]
    },
    {
     "name": "stderr",
     "output_type": "stream",
     "text": [
      "Epoch: 10 loss: 0.3749, acc: 0.83: 100%|██████████| 1875/1875 [19:28<00:00,  1.58it/s]\n",
      "Validation: 100%|██████████| 30/30 [00:30<00:00,  1.01it/s]\n"
     ]
    },
    {
     "name": "stdout",
     "output_type": "stream",
     "text": [
      "\n",
      "Epoch: 10 validation test results - Average val_loss: 0.0055, val_acc: 2238/3000 (74.60%)\n"
     ]
    },
    {
     "data": {
      "image/png": "[encoded data removed]",
      "text/plain": [
       "<Figure size 936x288 with 4 Axes>"
      ]
     },
     "metadata": {
      "needs_background": "light"
     },
     "output_type": "display_data"
    }
   ],
   "source": [
    "args = Args()\n",
    "model = run_experiment(args)"
   ]
  },
  {
   "cell_type": "code",
   "execution_count": null,
   "metadata": {},
   "outputs": [],
   "source": []
  }
 ],
 "metadata": {
  "accelerator": "GPU",
  "colab": {
   "collapsed_sections": [],
   "name": "Siamese_ResNet_Tan.ipynb",
   "provenance": [],
   "version": "0.3.2"
  },
  "kernelspec": {
   "display_name": "Python 3",
   "language": "python",
   "name": "python3"
  },
  "language_info": {
   "codemirror_mode": {
    "name": "ipython",
    "version": 3
   },
   "file_extension": ".py",
   "mimetype": "text/x-python",
   "name": "python",
   "nbconvert_exporter": "python",
   "pygments_lexer": "ipython3",
   "version": "3.5.2"
  }
 },
 "nbformat": 4,
 "nbformat_minor": 1
}
